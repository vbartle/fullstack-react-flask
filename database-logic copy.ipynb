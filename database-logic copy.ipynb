{
 "cells": [
  {
   "cell_type": "markdown",
   "metadata": {},
   "source": [
    "# step 1: initialize an empty database, read it, and fill it"
   ]
  },
  {
   "cell_type": "code",
   "execution_count": 12,
   "metadata": {},
   "outputs": [],
   "source": [
    "class dataB(object):\n",
    "    def __init__(self):\n",
    "        self.db = {}\n",
    "        \n",
    "    def read(self):\n",
    "        return self.db\n",
    "    \n",
    "    def create(self, value):\n",
    "        ID = str(1) if len(myB.read()) < 1 else str(max([int(i) for i in myB.read().keys()]) + 1)\n",
    "        self.db[ID] = value\n",
    "        return {ID: self.db[ID]}"
   ]
  },
  {
   "cell_type": "code",
   "execution_count": 17,
   "metadata": {},
   "outputs": [
    {
     "data": {
      "text/plain": [
       "{}"
      ]
     },
     "execution_count": 17,
     "metadata": {},
     "output_type": "execute_result"
    }
   ],
   "source": [
    "myB = dataB()\n",
    "myB.read()"
   ]
  },
  {
   "cell_type": "code",
   "execution_count": 20,
   "metadata": {},
   "outputs": [
    {
     "data": {
      "text/plain": [
       "{'2': '{echo: poncho}'}"
      ]
     },
     "execution_count": 20,
     "metadata": {},
     "output_type": "execute_result"
    }
   ],
   "source": [
    "myB.create(\"{echo: poncho}\")"
   ]
  },
  {
   "cell_type": "code",
   "execution_count": 21,
   "metadata": {},
   "outputs": [
    {
     "data": {
      "text/plain": [
       "{'1': '{echo: poncho}', '2': '{echo: poncho}'}"
      ]
     },
     "execution_count": 21,
     "metadata": {},
     "output_type": "execute_result"
    }
   ],
   "source": [
    "myB.read()"
   ]
  },
  {
   "cell_type": "markdown",
   "metadata": {},
   "source": [
    "# step 2: refine read to read individual ids and make a function to update individual ids "
   ]
  },
  {
   "cell_type": "code",
   "execution_count": 33,
   "metadata": {},
   "outputs": [],
   "source": [
    "class dataB(object):\n",
    "    def __init__(self):\n",
    "        self.db = {}\n",
    "        \n",
    "    def read(self, ID):\n",
    "        if ID == 'all':\n",
    "            return self.db\n",
    "        else:\n",
    "            return {ID: self.db[ID]}\n",
    "    \n",
    "    def create(self, value):\n",
    "        ID = str(1) if len(myB.read('all')) < 1 else str(max([int(i) for i in myB.read('all').keys()]) + 1)\n",
    "        self.db[ID] = value\n",
    "        return {ID: self.db[ID]}\n",
    "    \n",
    "    def update(self, ID, value):\n",
    "        self.db[ID] = value\n",
    "        return self.db"
   ]
  },
  {
   "cell_type": "code",
   "execution_count": 34,
   "metadata": {},
   "outputs": [
    {
     "data": {
      "text/plain": [
       "{}"
      ]
     },
     "execution_count": 34,
     "metadata": {},
     "output_type": "execute_result"
    }
   ],
   "source": [
    "myB = dataB()\n",
    "myB.read('all')"
   ]
  },
  {
   "cell_type": "code",
   "execution_count": 35,
   "metadata": {},
   "outputs": [
    {
     "data": {
      "text/plain": [
       "{'3': '{tester:tester}'}"
      ]
     },
     "execution_count": 35,
     "metadata": {},
     "output_type": "execute_result"
    }
   ],
   "source": [
    "myB.create(\"{tester:tester}\")\n",
    "myB.create(\"{tester:tester}\")\n",
    "myB.create(\"{tester:tester}\")"
   ]
  },
  {
   "cell_type": "code",
   "execution_count": 36,
   "metadata": {},
   "outputs": [
    {
     "data": {
      "text/plain": [
       "{'1': '{tester:tester}', '2': '{tester:tester}', '3': '{tester:tester}'}"
      ]
     },
     "execution_count": 36,
     "metadata": {},
     "output_type": "execute_result"
    }
   ],
   "source": [
    "myB.read('all')"
   ]
  },
  {
   "cell_type": "code",
   "execution_count": 37,
   "metadata": {},
   "outputs": [
    {
     "data": {
      "text/plain": [
       "{'1': '{tester:tester}', '2': '{hello:hello}', '3': '{tester:tester}'}"
      ]
     },
     "execution_count": 37,
     "metadata": {},
     "output_type": "execute_result"
    }
   ],
   "source": [
    "myB.update('2',\"{hello:hello}\")"
   ]
  },
  {
   "cell_type": "markdown",
   "metadata": {},
   "source": [
    "# step 3: refine update to require that the key be in the database otherwise return an error, also refine read to do the same and make a function to delete based on id"
   ]
  },
  {
   "cell_type": "code",
   "execution_count": 39,
   "metadata": {},
   "outputs": [],
   "source": [
    "class dataB(object):\n",
    "    def __init__(self):\n",
    "        self.db = {}\n",
    "        \n",
    "    def read(self, ID):\n",
    "        if ID == 'all':\n",
    "            return self.db\n",
    "        elif ID in self.db.keys():\n",
    "            return {ID: self.db[ID]}\n",
    "        else:\n",
    "            return \"ID not found in DB\"\n",
    "    \n",
    "    def create(self, value):\n",
    "        ID = str(1) if len(myB.read('all')) < 1 else str(max([int(i) for i in myB.read('all').keys()]) + 1)\n",
    "        self.db[ID] = value\n",
    "        return {ID: self.db[ID]}\n",
    "    \n",
    "    def update(self, ID, value):\n",
    "        if ID in self.db.keys():\n",
    "            self.db[ID] = value\n",
    "            return self.db\n",
    "        else:\n",
    "            return \"ID not found in DB\"\n",
    "        \n",
    "    def delete(self, ID):\n",
    "        if ID in self.db.keys():\n",
    "            del self.db[ID]\n",
    "            return self.db\n",
    "        else:\n",
    "            return \"ID not found in DB\""
   ]
  },
  {
   "cell_type": "code",
   "execution_count": 40,
   "metadata": {},
   "outputs": [
    {
     "data": {
      "text/plain": [
       "{}"
      ]
     },
     "execution_count": 40,
     "metadata": {},
     "output_type": "execute_result"
    }
   ],
   "source": [
    "myB  = dataB()\n",
    "myB.read('all')"
   ]
  },
  {
   "cell_type": "code",
   "execution_count": 41,
   "metadata": {},
   "outputs": [
    {
     "data": {
      "text/plain": [
       "{'3': '{tester:tester}'}"
      ]
     },
     "execution_count": 41,
     "metadata": {},
     "output_type": "execute_result"
    }
   ],
   "source": [
    "myB.create(\"{tester:tester}\")\n",
    "myB.create(\"{tester:tester}\")\n",
    "myB.create(\"{tester:tester}\")"
   ]
  },
  {
   "cell_type": "code",
   "execution_count": 42,
   "metadata": {},
   "outputs": [
    {
     "data": {
      "text/plain": [
       "'ID not found in DB'"
      ]
     },
     "execution_count": 42,
     "metadata": {},
     "output_type": "execute_result"
    }
   ],
   "source": [
    "myB.read('20')"
   ]
  },
  {
   "cell_type": "code",
   "execution_count": 43,
   "metadata": {},
   "outputs": [
    {
     "data": {
      "text/plain": [
       "{'1': '{tester:tester}'}"
      ]
     },
     "execution_count": 43,
     "metadata": {},
     "output_type": "execute_result"
    }
   ],
   "source": [
    "myB.read('1')"
   ]
  },
  {
   "cell_type": "code",
   "execution_count": 44,
   "metadata": {},
   "outputs": [
    {
     "data": {
      "text/plain": [
       "{'1': '{mango:test}', '2': '{tester:tester}', '3': '{tester:tester}'}"
      ]
     },
     "execution_count": 44,
     "metadata": {},
     "output_type": "execute_result"
    }
   ],
   "source": [
    "myB.update('1','{mango:test}')"
   ]
  },
  {
   "cell_type": "code",
   "execution_count": 45,
   "metadata": {},
   "outputs": [
    {
     "data": {
      "text/plain": [
       "{'2': '{tester:tester}', '3': '{tester:tester}'}"
      ]
     },
     "execution_count": 45,
     "metadata": {},
     "output_type": "execute_result"
    }
   ],
   "source": [
    "myB.delete('1')"
   ]
  },
  {
   "cell_type": "code",
   "execution_count": 46,
   "metadata": {},
   "outputs": [
    {
     "data": {
      "text/plain": [
       "'ID not found in DB'"
      ]
     },
     "execution_count": 46,
     "metadata": {},
     "output_type": "execute_result"
    }
   ],
   "source": [
    "myB.delete('50')"
   ]
  },
  {
   "cell_type": "markdown",
   "metadata": {},
   "source": [
    "# step 4: add upload and download functionality to save the database state and refer to it later by converting the dictionary to a JSON file. "
   ]
  },
  {
   "cell_type": "code",
   "execution_count": 47,
   "metadata": {},
   "outputs": [],
   "source": [
    "import json\n",
    "\n",
    "class dataB(object):\n",
    "    def __init__(self):\n",
    "        self.db = {}\n",
    "        self.location = './database.json'\n",
    "        \n",
    "    def read(self, ID):\n",
    "        if ID == 'all':\n",
    "            return self.db\n",
    "        elif ID in self.db.keys():\n",
    "            return {ID: self.db[ID]}\n",
    "        else:\n",
    "            return \"ID not found in DB\"\n",
    "    \n",
    "    def create(self, value):\n",
    "        ID = str(1) if len(myB.read('all')) < 1 else str(max([int(i) for i in myB.read('all').keys()]) + 1)\n",
    "        self.db[ID] = value\n",
    "        return {ID: self.db[ID]}\n",
    "    \n",
    "    def update(self, ID, value):\n",
    "        if ID in self.db.keys():\n",
    "            self.db[ID] = value\n",
    "            return self.db\n",
    "        else:\n",
    "            return \"ID not found in DB\"\n",
    "        \n",
    "    def delete(self, ID):\n",
    "        if ID in self.db.keys():\n",
    "            del self.db[ID]\n",
    "            return self.db\n",
    "        else:\n",
    "            return \"ID not found in DB\"\n",
    "        \n",
    "    def upload(self):\n",
    "        with open('database.db', 'w') as json_file:\n",
    "            json.dump(self.read('all'), json_file)\n",
    "        return self.db\n",
    "\n",
    "    def download(self):\n",
    "        self.db = json.load(open('./database.db', 'r'))\n",
    "        return self.db"
   ]
  },
  {
   "cell_type": "code",
   "execution_count": 48,
   "metadata": {},
   "outputs": [
    {
     "data": {
      "text/plain": [
       "{}"
      ]
     },
     "execution_count": 48,
     "metadata": {},
     "output_type": "execute_result"
    }
   ],
   "source": [
    "myB  = dataB()\n",
    "myB.read('all')"
   ]
  },
  {
   "cell_type": "code",
   "execution_count": 49,
   "metadata": {},
   "outputs": [
    {
     "data": {
      "text/plain": [
       "{'3': '{tester:tester}'}"
      ]
     },
     "execution_count": 49,
     "metadata": {},
     "output_type": "execute_result"
    }
   ],
   "source": [
    "myB.create(\"{tester:tester}\")\n",
    "myB.create(\"{tester:tester}\")\n",
    "myB.create(\"{tester:tester}\")"
   ]
  },
  {
   "cell_type": "code",
   "execution_count": 50,
   "metadata": {},
   "outputs": [
    {
     "data": {
      "text/plain": [
       "{'1': '{tester:tester}', '2': '{tester:tester}', '3': '{tester:tester}'}"
      ]
     },
     "execution_count": 50,
     "metadata": {},
     "output_type": "execute_result"
    }
   ],
   "source": [
    "myB.read('all')"
   ]
  },
  {
   "cell_type": "code",
   "execution_count": 51,
   "metadata": {},
   "outputs": [
    {
     "data": {
      "text/plain": [
       "{'1': '{tester:tester}', '2': '{tester:tester}', '3': '{tester:tester}'}"
      ]
     },
     "execution_count": 51,
     "metadata": {},
     "output_type": "execute_result"
    }
   ],
   "source": [
    "myB.upload()"
   ]
  },
  {
   "cell_type": "code",
   "execution_count": 52,
   "metadata": {},
   "outputs": [
    {
     "data": {
      "text/plain": [
       "{'6': '{tester:tester}'}"
      ]
     },
     "execution_count": 52,
     "metadata": {},
     "output_type": "execute_result"
    }
   ],
   "source": [
    "myB.create(\"{tester:tester}\")\n",
    "myB.create(\"{tester:tester}\")\n",
    "myB.create(\"{tester:tester}\")"
   ]
  },
  {
   "cell_type": "code",
   "execution_count": 53,
   "metadata": {},
   "outputs": [
    {
     "data": {
      "text/plain": [
       "{'1': '{tester:tester}',\n",
       " '2': '{tester:tester}',\n",
       " '3': '{tester:tester}',\n",
       " '4': '{tester:tester}',\n",
       " '5': '{tester:tester}',\n",
       " '6': '{tester:tester}'}"
      ]
     },
     "execution_count": 53,
     "metadata": {},
     "output_type": "execute_result"
    }
   ],
   "source": [
    "myB.read('all')"
   ]
  },
  {
   "cell_type": "code",
   "execution_count": 54,
   "metadata": {},
   "outputs": [
    {
     "data": {
      "text/plain": [
       "{'1': '{tester:tester}', '2': '{tester:tester}', '3': '{tester:tester}'}"
      ]
     },
     "execution_count": 54,
     "metadata": {},
     "output_type": "execute_result"
    }
   ],
   "source": [
    "myB.download()"
   ]
  },
  {
   "cell_type": "code",
   "execution_count": 55,
   "metadata": {},
   "outputs": [
    {
     "data": {
      "text/plain": [
       "{'1': '{tester:tester}', '2': '{tester:tester}', '3': '{tester:tester}'}"
      ]
     },
     "execution_count": 55,
     "metadata": {},
     "output_type": "execute_result"
    }
   ],
   "source": [
    "myB.read('all')"
   ]
  }
 ],
 "metadata": {
  "kernelspec": {
   "display_name": "Python 3",
   "language": "python",
   "name": "python3"
  },
  "language_info": {
   "codemirror_mode": {
    "name": "ipython",
    "version": 3
   },
   "file_extension": ".py",
   "mimetype": "text/x-python",
   "name": "python",
   "nbconvert_exporter": "python",
   "pygments_lexer": "ipython3",
   "version": "3.7.7"
  }
 },
 "nbformat": 4,
 "nbformat_minor": 4
}
